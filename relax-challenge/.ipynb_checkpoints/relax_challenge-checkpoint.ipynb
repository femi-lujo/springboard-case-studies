{
 "cells": [
  {
   "cell_type": "markdown",
   "id": "a4cc332d",
   "metadata": {},
   "source": [
    "# Relax Challenge"
   ]
  },
  {
   "cell_type": "markdown",
   "id": "f26fa241",
   "metadata": {},
   "source": [
    "## Objective"
   ]
  },
  {
   "cell_type": "markdown",
   "id": "0c6a80d9",
   "metadata": {},
   "source": [
    "To determine the factors that predict future user adoption."
   ]
  },
  {
   "cell_type": "markdown",
   "id": "c4c1a2d0",
   "metadata": {},
   "source": [
    "## Load Imports"
   ]
  },
  {
   "cell_type": "code",
   "execution_count": 1,
   "id": "629a4eb3",
   "metadata": {},
   "outputs": [],
   "source": [
    "import pandas as pd\n",
    "import os\n",
    "import datetime as datetime\n",
    "from collections import defaultdict\n",
    "import matplotlib.pyplot as plt\n",
    "from pandas_profiling import ProfileReport\n",
    "import seaborn as sns\n",
    "import numpy as np\n",
    "from sklearn.preprocessing import StandardScaler\n",
    "from sklearn.model_selection import train_test_split\n",
    "from sklearn.linear_model import LogisticRegression\n",
    "from sklearn.metrics import confusion_matrix, classification_report\n",
    "from sklearn.ensemble import RandomForestClassifier"
   ]
  },
  {
   "cell_type": "code",
   "execution_count": 2,
   "id": "a9ee572a",
   "metadata": {},
   "outputs": [
    {
     "data": {
      "text/plain": [
       "['.git',\n",
       " '.ipynb_checkpoints',\n",
       " 'relax_challenge.ipynb',\n",
       " 'relax_data_science_challenge.pdf',\n",
       " 'takehome_users.csv',\n",
       " 'takehome_user_engagement.csv']"
      ]
     },
     "execution_count": 2,
     "metadata": {},
     "output_type": "execute_result"
    }
   ],
   "source": [
    "os.listdir()"
   ]
  },
  {
   "cell_type": "markdown",
   "id": "5e485185",
   "metadata": {},
   "source": [
    "## Load Files"
   ]
  },
  {
   "cell_type": "code",
   "execution_count": 3,
   "id": "28495ad3",
   "metadata": {},
   "outputs": [],
   "source": [
    "users = pd.read_csv('takehome_users.csv')"
   ]
  },
  {
   "cell_type": "code",
   "execution_count": 4,
   "id": "b1ae62dc",
   "metadata": {
    "scrolled": true
   },
   "outputs": [
    {
     "data": {
      "text/html": [
       "<div>\n",
       "<style scoped>\n",
       "    .dataframe tbody tr th:only-of-type {\n",
       "        vertical-align: middle;\n",
       "    }\n",
       "\n",
       "    .dataframe tbody tr th {\n",
       "        vertical-align: top;\n",
       "    }\n",
       "\n",
       "    .dataframe thead th {\n",
       "        text-align: right;\n",
       "    }\n",
       "</style>\n",
       "<table border=\"1\" class=\"dataframe\">\n",
       "  <thead>\n",
       "    <tr style=\"text-align: right;\">\n",
       "      <th></th>\n",
       "      <th>object_id</th>\n",
       "      <th>creation_time</th>\n",
       "      <th>name</th>\n",
       "      <th>email</th>\n",
       "      <th>creation_source</th>\n",
       "      <th>last_session_creation_time</th>\n",
       "      <th>opted_in_to_mailing_list</th>\n",
       "      <th>enabled_for_marketing_drip</th>\n",
       "      <th>org_id</th>\n",
       "      <th>invited_by_user_id</th>\n",
       "    </tr>\n",
       "  </thead>\n",
       "  <tbody>\n",
       "    <tr>\n",
       "      <th>0</th>\n",
       "      <td>1</td>\n",
       "      <td>2014-04-22 03:53:30</td>\n",
       "      <td>Clausen August</td>\n",
       "      <td>AugustCClausen@yahoo.com</td>\n",
       "      <td>GUEST_INVITE</td>\n",
       "      <td>1.398139e+09</td>\n",
       "      <td>1</td>\n",
       "      <td>0</td>\n",
       "      <td>11</td>\n",
       "      <td>10803.0</td>\n",
       "    </tr>\n",
       "    <tr>\n",
       "      <th>1</th>\n",
       "      <td>2</td>\n",
       "      <td>2013-11-15 03:45:04</td>\n",
       "      <td>Poole Matthew</td>\n",
       "      <td>MatthewPoole@gustr.com</td>\n",
       "      <td>ORG_INVITE</td>\n",
       "      <td>1.396238e+09</td>\n",
       "      <td>0</td>\n",
       "      <td>0</td>\n",
       "      <td>1</td>\n",
       "      <td>316.0</td>\n",
       "    </tr>\n",
       "    <tr>\n",
       "      <th>2</th>\n",
       "      <td>3</td>\n",
       "      <td>2013-03-19 23:14:52</td>\n",
       "      <td>Bottrill Mitchell</td>\n",
       "      <td>MitchellBottrill@gustr.com</td>\n",
       "      <td>ORG_INVITE</td>\n",
       "      <td>1.363735e+09</td>\n",
       "      <td>0</td>\n",
       "      <td>0</td>\n",
       "      <td>94</td>\n",
       "      <td>1525.0</td>\n",
       "    </tr>\n",
       "    <tr>\n",
       "      <th>3</th>\n",
       "      <td>4</td>\n",
       "      <td>2013-05-21 08:09:28</td>\n",
       "      <td>Clausen Nicklas</td>\n",
       "      <td>NicklasSClausen@yahoo.com</td>\n",
       "      <td>GUEST_INVITE</td>\n",
       "      <td>1.369210e+09</td>\n",
       "      <td>0</td>\n",
       "      <td>0</td>\n",
       "      <td>1</td>\n",
       "      <td>5151.0</td>\n",
       "    </tr>\n",
       "    <tr>\n",
       "      <th>4</th>\n",
       "      <td>5</td>\n",
       "      <td>2013-01-17 10:14:20</td>\n",
       "      <td>Raw Grace</td>\n",
       "      <td>GraceRaw@yahoo.com</td>\n",
       "      <td>GUEST_INVITE</td>\n",
       "      <td>1.358850e+09</td>\n",
       "      <td>0</td>\n",
       "      <td>0</td>\n",
       "      <td>193</td>\n",
       "      <td>5240.0</td>\n",
       "    </tr>\n",
       "  </tbody>\n",
       "</table>\n",
       "</div>"
      ],
      "text/plain": [
       "   object_id        creation_time               name  \\\n",
       "0          1  2014-04-22 03:53:30     Clausen August   \n",
       "1          2  2013-11-15 03:45:04      Poole Matthew   \n",
       "2          3  2013-03-19 23:14:52  Bottrill Mitchell   \n",
       "3          4  2013-05-21 08:09:28    Clausen Nicklas   \n",
       "4          5  2013-01-17 10:14:20          Raw Grace   \n",
       "\n",
       "                        email creation_source  last_session_creation_time  \\\n",
       "0    AugustCClausen@yahoo.com    GUEST_INVITE                1.398139e+09   \n",
       "1      MatthewPoole@gustr.com      ORG_INVITE                1.396238e+09   \n",
       "2  MitchellBottrill@gustr.com      ORG_INVITE                1.363735e+09   \n",
       "3   NicklasSClausen@yahoo.com    GUEST_INVITE                1.369210e+09   \n",
       "4          GraceRaw@yahoo.com    GUEST_INVITE                1.358850e+09   \n",
       "\n",
       "   opted_in_to_mailing_list  enabled_for_marketing_drip  org_id  \\\n",
       "0                         1                           0      11   \n",
       "1                         0                           0       1   \n",
       "2                         0                           0      94   \n",
       "3                         0                           0       1   \n",
       "4                         0                           0     193   \n",
       "\n",
       "   invited_by_user_id  \n",
       "0             10803.0  \n",
       "1               316.0  \n",
       "2              1525.0  \n",
       "3              5151.0  \n",
       "4              5240.0  "
      ]
     },
     "execution_count": 4,
     "metadata": {},
     "output_type": "execute_result"
    }
   ],
   "source": [
    "users.head()"
   ]
  },
  {
   "cell_type": "code",
   "execution_count": 5,
   "id": "60ace093",
   "metadata": {},
   "outputs": [
    {
     "name": "stdout",
     "output_type": "stream",
     "text": [
      "<class 'pandas.core.frame.DataFrame'>\n",
      "RangeIndex: 12000 entries, 0 to 11999\n",
      "Data columns (total 10 columns):\n",
      " #   Column                      Non-Null Count  Dtype  \n",
      "---  ------                      --------------  -----  \n",
      " 0   object_id                   12000 non-null  int64  \n",
      " 1   creation_time               12000 non-null  object \n",
      " 2   name                        12000 non-null  object \n",
      " 3   email                       12000 non-null  object \n",
      " 4   creation_source             12000 non-null  object \n",
      " 5   last_session_creation_time  8823 non-null   float64\n",
      " 6   opted_in_to_mailing_list    12000 non-null  int64  \n",
      " 7   enabled_for_marketing_drip  12000 non-null  int64  \n",
      " 8   org_id                      12000 non-null  int64  \n",
      " 9   invited_by_user_id          6417 non-null   float64\n",
      "dtypes: float64(2), int64(4), object(4)\n",
      "memory usage: 937.6+ KB\n"
     ]
    }
   ],
   "source": [
    "users.info()"
   ]
  },
  {
   "cell_type": "code",
   "execution_count": 6,
   "id": "fa3b3139",
   "metadata": {},
   "outputs": [],
   "source": [
    "user_engagement = pd.read_csv('takehome_user_engagement.csv')"
   ]
  },
  {
   "cell_type": "code",
   "execution_count": 7,
   "id": "61945d57",
   "metadata": {
    "scrolled": true
   },
   "outputs": [
    {
     "data": {
      "text/html": [
       "<div>\n",
       "<style scoped>\n",
       "    .dataframe tbody tr th:only-of-type {\n",
       "        vertical-align: middle;\n",
       "    }\n",
       "\n",
       "    .dataframe tbody tr th {\n",
       "        vertical-align: top;\n",
       "    }\n",
       "\n",
       "    .dataframe thead th {\n",
       "        text-align: right;\n",
       "    }\n",
       "</style>\n",
       "<table border=\"1\" class=\"dataframe\">\n",
       "  <thead>\n",
       "    <tr style=\"text-align: right;\">\n",
       "      <th></th>\n",
       "      <th>time_stamp</th>\n",
       "      <th>user_id</th>\n",
       "      <th>visited</th>\n",
       "    </tr>\n",
       "  </thead>\n",
       "  <tbody>\n",
       "    <tr>\n",
       "      <th>0</th>\n",
       "      <td>2014-04-22 03:53:30</td>\n",
       "      <td>1</td>\n",
       "      <td>1</td>\n",
       "    </tr>\n",
       "    <tr>\n",
       "      <th>1</th>\n",
       "      <td>2013-11-15 03:45:04</td>\n",
       "      <td>2</td>\n",
       "      <td>1</td>\n",
       "    </tr>\n",
       "    <tr>\n",
       "      <th>2</th>\n",
       "      <td>2013-11-29 03:45:04</td>\n",
       "      <td>2</td>\n",
       "      <td>1</td>\n",
       "    </tr>\n",
       "    <tr>\n",
       "      <th>3</th>\n",
       "      <td>2013-12-09 03:45:04</td>\n",
       "      <td>2</td>\n",
       "      <td>1</td>\n",
       "    </tr>\n",
       "    <tr>\n",
       "      <th>4</th>\n",
       "      <td>2013-12-25 03:45:04</td>\n",
       "      <td>2</td>\n",
       "      <td>1</td>\n",
       "    </tr>\n",
       "  </tbody>\n",
       "</table>\n",
       "</div>"
      ],
      "text/plain": [
       "            time_stamp  user_id  visited\n",
       "0  2014-04-22 03:53:30        1        1\n",
       "1  2013-11-15 03:45:04        2        1\n",
       "2  2013-11-29 03:45:04        2        1\n",
       "3  2013-12-09 03:45:04        2        1\n",
       "4  2013-12-25 03:45:04        2        1"
      ]
     },
     "execution_count": 7,
     "metadata": {},
     "output_type": "execute_result"
    }
   ],
   "source": [
    "user_engagement.head()"
   ]
  },
  {
   "cell_type": "code",
   "execution_count": 8,
   "id": "f0804921",
   "metadata": {},
   "outputs": [
    {
     "name": "stdout",
     "output_type": "stream",
     "text": [
      "<class 'pandas.core.frame.DataFrame'>\n",
      "RangeIndex: 207917 entries, 0 to 207916\n",
      "Data columns (total 3 columns):\n",
      " #   Column      Non-Null Count   Dtype \n",
      "---  ------      --------------   ----- \n",
      " 0   time_stamp  207917 non-null  object\n",
      " 1   user_id     207917 non-null  int64 \n",
      " 2   visited     207917 non-null  int64 \n",
      "dtypes: int64(2), object(1)\n",
      "memory usage: 4.8+ MB\n"
     ]
    }
   ],
   "source": [
    "user_engagement.info()"
   ]
  },
  {
   "cell_type": "code",
   "execution_count": 9,
   "id": "2e89cc40",
   "metadata": {},
   "outputs": [],
   "source": [
    "user_df = pd.merge(user_engagement, users, left_on = 'user_id', right_on = 'object_id', how = 'left')"
   ]
  },
  {
   "cell_type": "code",
   "execution_count": 10,
   "id": "a5258359",
   "metadata": {},
   "outputs": [
    {
     "data": {
      "text/html": [
       "<div>\n",
       "<style scoped>\n",
       "    .dataframe tbody tr th:only-of-type {\n",
       "        vertical-align: middle;\n",
       "    }\n",
       "\n",
       "    .dataframe tbody tr th {\n",
       "        vertical-align: top;\n",
       "    }\n",
       "\n",
       "    .dataframe thead th {\n",
       "        text-align: right;\n",
       "    }\n",
       "</style>\n",
       "<table border=\"1\" class=\"dataframe\">\n",
       "  <thead>\n",
       "    <tr style=\"text-align: right;\">\n",
       "      <th></th>\n",
       "      <th>time_stamp</th>\n",
       "      <th>user_id</th>\n",
       "      <th>visited</th>\n",
       "      <th>object_id</th>\n",
       "      <th>creation_time</th>\n",
       "      <th>name</th>\n",
       "      <th>email</th>\n",
       "      <th>creation_source</th>\n",
       "      <th>last_session_creation_time</th>\n",
       "      <th>opted_in_to_mailing_list</th>\n",
       "      <th>enabled_for_marketing_drip</th>\n",
       "      <th>org_id</th>\n",
       "      <th>invited_by_user_id</th>\n",
       "    </tr>\n",
       "  </thead>\n",
       "  <tbody>\n",
       "    <tr>\n",
       "      <th>0</th>\n",
       "      <td>2014-04-22 03:53:30</td>\n",
       "      <td>1</td>\n",
       "      <td>1</td>\n",
       "      <td>1</td>\n",
       "      <td>2014-04-22 03:53:30</td>\n",
       "      <td>Clausen August</td>\n",
       "      <td>AugustCClausen@yahoo.com</td>\n",
       "      <td>GUEST_INVITE</td>\n",
       "      <td>1.398139e+09</td>\n",
       "      <td>1</td>\n",
       "      <td>0</td>\n",
       "      <td>11</td>\n",
       "      <td>10803.0</td>\n",
       "    </tr>\n",
       "    <tr>\n",
       "      <th>1</th>\n",
       "      <td>2013-11-15 03:45:04</td>\n",
       "      <td>2</td>\n",
       "      <td>1</td>\n",
       "      <td>2</td>\n",
       "      <td>2013-11-15 03:45:04</td>\n",
       "      <td>Poole Matthew</td>\n",
       "      <td>MatthewPoole@gustr.com</td>\n",
       "      <td>ORG_INVITE</td>\n",
       "      <td>1.396238e+09</td>\n",
       "      <td>0</td>\n",
       "      <td>0</td>\n",
       "      <td>1</td>\n",
       "      <td>316.0</td>\n",
       "    </tr>\n",
       "    <tr>\n",
       "      <th>2</th>\n",
       "      <td>2013-11-29 03:45:04</td>\n",
       "      <td>2</td>\n",
       "      <td>1</td>\n",
       "      <td>2</td>\n",
       "      <td>2013-11-15 03:45:04</td>\n",
       "      <td>Poole Matthew</td>\n",
       "      <td>MatthewPoole@gustr.com</td>\n",
       "      <td>ORG_INVITE</td>\n",
       "      <td>1.396238e+09</td>\n",
       "      <td>0</td>\n",
       "      <td>0</td>\n",
       "      <td>1</td>\n",
       "      <td>316.0</td>\n",
       "    </tr>\n",
       "    <tr>\n",
       "      <th>3</th>\n",
       "      <td>2013-12-09 03:45:04</td>\n",
       "      <td>2</td>\n",
       "      <td>1</td>\n",
       "      <td>2</td>\n",
       "      <td>2013-11-15 03:45:04</td>\n",
       "      <td>Poole Matthew</td>\n",
       "      <td>MatthewPoole@gustr.com</td>\n",
       "      <td>ORG_INVITE</td>\n",
       "      <td>1.396238e+09</td>\n",
       "      <td>0</td>\n",
       "      <td>0</td>\n",
       "      <td>1</td>\n",
       "      <td>316.0</td>\n",
       "    </tr>\n",
       "    <tr>\n",
       "      <th>4</th>\n",
       "      <td>2013-12-25 03:45:04</td>\n",
       "      <td>2</td>\n",
       "      <td>1</td>\n",
       "      <td>2</td>\n",
       "      <td>2013-11-15 03:45:04</td>\n",
       "      <td>Poole Matthew</td>\n",
       "      <td>MatthewPoole@gustr.com</td>\n",
       "      <td>ORG_INVITE</td>\n",
       "      <td>1.396238e+09</td>\n",
       "      <td>0</td>\n",
       "      <td>0</td>\n",
       "      <td>1</td>\n",
       "      <td>316.0</td>\n",
       "    </tr>\n",
       "  </tbody>\n",
       "</table>\n",
       "</div>"
      ],
      "text/plain": [
       "            time_stamp  user_id  visited  object_id        creation_time  \\\n",
       "0  2014-04-22 03:53:30        1        1          1  2014-04-22 03:53:30   \n",
       "1  2013-11-15 03:45:04        2        1          2  2013-11-15 03:45:04   \n",
       "2  2013-11-29 03:45:04        2        1          2  2013-11-15 03:45:04   \n",
       "3  2013-12-09 03:45:04        2        1          2  2013-11-15 03:45:04   \n",
       "4  2013-12-25 03:45:04        2        1          2  2013-11-15 03:45:04   \n",
       "\n",
       "             name                     email creation_source  \\\n",
       "0  Clausen August  AugustCClausen@yahoo.com    GUEST_INVITE   \n",
       "1   Poole Matthew    MatthewPoole@gustr.com      ORG_INVITE   \n",
       "2   Poole Matthew    MatthewPoole@gustr.com      ORG_INVITE   \n",
       "3   Poole Matthew    MatthewPoole@gustr.com      ORG_INVITE   \n",
       "4   Poole Matthew    MatthewPoole@gustr.com      ORG_INVITE   \n",
       "\n",
       "   last_session_creation_time  opted_in_to_mailing_list  \\\n",
       "0                1.398139e+09                         1   \n",
       "1                1.396238e+09                         0   \n",
       "2                1.396238e+09                         0   \n",
       "3                1.396238e+09                         0   \n",
       "4                1.396238e+09                         0   \n",
       "\n",
       "   enabled_for_marketing_drip  org_id  invited_by_user_id  \n",
       "0                           0      11             10803.0  \n",
       "1                           0       1               316.0  \n",
       "2                           0       1               316.0  \n",
       "3                           0       1               316.0  \n",
       "4                           0       1               316.0  "
      ]
     },
     "execution_count": 10,
     "metadata": {},
     "output_type": "execute_result"
    }
   ],
   "source": [
    "user_df.head()"
   ]
  },
  {
   "cell_type": "code",
   "execution_count": 11,
   "id": "9e6d76de",
   "metadata": {},
   "outputs": [
    {
     "name": "stdout",
     "output_type": "stream",
     "text": [
      "<class 'pandas.core.frame.DataFrame'>\n",
      "Int64Index: 207917 entries, 0 to 207916\n",
      "Data columns (total 13 columns):\n",
      " #   Column                      Non-Null Count   Dtype  \n",
      "---  ------                      --------------   -----  \n",
      " 0   time_stamp                  207917 non-null  object \n",
      " 1   user_id                     207917 non-null  int64  \n",
      " 2   visited                     207917 non-null  int64  \n",
      " 3   object_id                   207917 non-null  int64  \n",
      " 4   creation_time               207917 non-null  object \n",
      " 5   name                        207917 non-null  object \n",
      " 6   email                       207917 non-null  object \n",
      " 7   creation_source             207917 non-null  object \n",
      " 8   last_session_creation_time  207917 non-null  float64\n",
      " 9   opted_in_to_mailing_list    207917 non-null  int64  \n",
      " 10  enabled_for_marketing_drip  207917 non-null  int64  \n",
      " 11  org_id                      207917 non-null  int64  \n",
      " 12  invited_by_user_id          116887 non-null  float64\n",
      "dtypes: float64(2), int64(6), object(5)\n",
      "memory usage: 22.2+ MB\n"
     ]
    }
   ],
   "source": [
    "user_df.info()"
   ]
  },
  {
   "cell_type": "code",
   "execution_count": 12,
   "id": "9d1f157b",
   "metadata": {},
   "outputs": [],
   "source": [
    "#Drop user_id since we already have an object_id \n",
    "user_df.drop(columns = ['object_id'], inplace = True)"
   ]
  },
  {
   "cell_type": "markdown",
   "id": "9fb8abf6",
   "metadata": {},
   "source": [
    "# Data Wrangling"
   ]
  },
  {
   "cell_type": "code",
   "execution_count": 13,
   "id": "119e79d5",
   "metadata": {},
   "outputs": [],
   "source": [
    "#Convert date columns to datetime objects\n",
    "user_df.creation_time = pd.to_datetime(user_df.creation_time)\n",
    "user_df.last_session_creation_time = pd.to_datetime(user_df.last_session_creation_time)\n",
    "user_df.time_stamp = pd.to_datetime(user_df.time_stamp)"
   ]
  },
  {
   "cell_type": "code",
   "execution_count": 14,
   "id": "518bda18",
   "metadata": {
    "scrolled": true
   },
   "outputs": [
    {
     "data": {
      "text/html": [
       "<div>\n",
       "<style scoped>\n",
       "    .dataframe tbody tr th:only-of-type {\n",
       "        vertical-align: middle;\n",
       "    }\n",
       "\n",
       "    .dataframe tbody tr th {\n",
       "        vertical-align: top;\n",
       "    }\n",
       "\n",
       "    .dataframe thead th {\n",
       "        text-align: right;\n",
       "    }\n",
       "</style>\n",
       "<table border=\"1\" class=\"dataframe\">\n",
       "  <thead>\n",
       "    <tr style=\"text-align: right;\">\n",
       "      <th></th>\n",
       "      <th>time_stamp</th>\n",
       "      <th>user_id</th>\n",
       "      <th>visited</th>\n",
       "      <th>creation_time</th>\n",
       "      <th>name</th>\n",
       "      <th>email</th>\n",
       "      <th>creation_source</th>\n",
       "      <th>last_session_creation_time</th>\n",
       "      <th>opted_in_to_mailing_list</th>\n",
       "      <th>enabled_for_marketing_drip</th>\n",
       "      <th>org_id</th>\n",
       "      <th>invited_by_user_id</th>\n",
       "    </tr>\n",
       "  </thead>\n",
       "  <tbody>\n",
       "    <tr>\n",
       "      <th>0</th>\n",
       "      <td>2014-04-22 03:53:30</td>\n",
       "      <td>1</td>\n",
       "      <td>1</td>\n",
       "      <td>2014-04-22 03:53:30</td>\n",
       "      <td>Clausen August</td>\n",
       "      <td>AugustCClausen@yahoo.com</td>\n",
       "      <td>GUEST_INVITE</td>\n",
       "      <td>1970-01-01 00:00:01.398138810</td>\n",
       "      <td>1</td>\n",
       "      <td>0</td>\n",
       "      <td>11</td>\n",
       "      <td>10803.0</td>\n",
       "    </tr>\n",
       "    <tr>\n",
       "      <th>1</th>\n",
       "      <td>2013-11-15 03:45:04</td>\n",
       "      <td>2</td>\n",
       "      <td>1</td>\n",
       "      <td>2013-11-15 03:45:04</td>\n",
       "      <td>Poole Matthew</td>\n",
       "      <td>MatthewPoole@gustr.com</td>\n",
       "      <td>ORG_INVITE</td>\n",
       "      <td>1970-01-01 00:00:01.396237504</td>\n",
       "      <td>0</td>\n",
       "      <td>0</td>\n",
       "      <td>1</td>\n",
       "      <td>316.0</td>\n",
       "    </tr>\n",
       "    <tr>\n",
       "      <th>2</th>\n",
       "      <td>2013-11-29 03:45:04</td>\n",
       "      <td>2</td>\n",
       "      <td>1</td>\n",
       "      <td>2013-11-15 03:45:04</td>\n",
       "      <td>Poole Matthew</td>\n",
       "      <td>MatthewPoole@gustr.com</td>\n",
       "      <td>ORG_INVITE</td>\n",
       "      <td>1970-01-01 00:00:01.396237504</td>\n",
       "      <td>0</td>\n",
       "      <td>0</td>\n",
       "      <td>1</td>\n",
       "      <td>316.0</td>\n",
       "    </tr>\n",
       "    <tr>\n",
       "      <th>3</th>\n",
       "      <td>2013-12-09 03:45:04</td>\n",
       "      <td>2</td>\n",
       "      <td>1</td>\n",
       "      <td>2013-11-15 03:45:04</td>\n",
       "      <td>Poole Matthew</td>\n",
       "      <td>MatthewPoole@gustr.com</td>\n",
       "      <td>ORG_INVITE</td>\n",
       "      <td>1970-01-01 00:00:01.396237504</td>\n",
       "      <td>0</td>\n",
       "      <td>0</td>\n",
       "      <td>1</td>\n",
       "      <td>316.0</td>\n",
       "    </tr>\n",
       "    <tr>\n",
       "      <th>4</th>\n",
       "      <td>2013-12-25 03:45:04</td>\n",
       "      <td>2</td>\n",
       "      <td>1</td>\n",
       "      <td>2013-11-15 03:45:04</td>\n",
       "      <td>Poole Matthew</td>\n",
       "      <td>MatthewPoole@gustr.com</td>\n",
       "      <td>ORG_INVITE</td>\n",
       "      <td>1970-01-01 00:00:01.396237504</td>\n",
       "      <td>0</td>\n",
       "      <td>0</td>\n",
       "      <td>1</td>\n",
       "      <td>316.0</td>\n",
       "    </tr>\n",
       "  </tbody>\n",
       "</table>\n",
       "</div>"
      ],
      "text/plain": [
       "           time_stamp  user_id  visited       creation_time            name  \\\n",
       "0 2014-04-22 03:53:30        1        1 2014-04-22 03:53:30  Clausen August   \n",
       "1 2013-11-15 03:45:04        2        1 2013-11-15 03:45:04   Poole Matthew   \n",
       "2 2013-11-29 03:45:04        2        1 2013-11-15 03:45:04   Poole Matthew   \n",
       "3 2013-12-09 03:45:04        2        1 2013-11-15 03:45:04   Poole Matthew   \n",
       "4 2013-12-25 03:45:04        2        1 2013-11-15 03:45:04   Poole Matthew   \n",
       "\n",
       "                      email creation_source    last_session_creation_time  \\\n",
       "0  AugustCClausen@yahoo.com    GUEST_INVITE 1970-01-01 00:00:01.398138810   \n",
       "1    MatthewPoole@gustr.com      ORG_INVITE 1970-01-01 00:00:01.396237504   \n",
       "2    MatthewPoole@gustr.com      ORG_INVITE 1970-01-01 00:00:01.396237504   \n",
       "3    MatthewPoole@gustr.com      ORG_INVITE 1970-01-01 00:00:01.396237504   \n",
       "4    MatthewPoole@gustr.com      ORG_INVITE 1970-01-01 00:00:01.396237504   \n",
       "\n",
       "   opted_in_to_mailing_list  enabled_for_marketing_drip  org_id  \\\n",
       "0                         1                           0      11   \n",
       "1                         0                           0       1   \n",
       "2                         0                           0       1   \n",
       "3                         0                           0       1   \n",
       "4                         0                           0       1   \n",
       "\n",
       "   invited_by_user_id  \n",
       "0             10803.0  \n",
       "1               316.0  \n",
       "2               316.0  \n",
       "3               316.0  \n",
       "4               316.0  "
      ]
     },
     "execution_count": 14,
     "metadata": {},
     "output_type": "execute_result"
    }
   ],
   "source": [
    "user_df.head()"
   ]
  },
  {
   "cell_type": "code",
   "execution_count": 15,
   "id": "9a85ebd0",
   "metadata": {
    "scrolled": false
   },
   "outputs": [
    {
     "name": "stdout",
     "output_type": "stream",
     "text": [
      "<class 'pandas.core.frame.DataFrame'>\n",
      "Int64Index: 207917 entries, 0 to 207916\n",
      "Data columns (total 12 columns):\n",
      " #   Column                      Non-Null Count   Dtype         \n",
      "---  ------                      --------------   -----         \n",
      " 0   time_stamp                  207917 non-null  datetime64[ns]\n",
      " 1   user_id                     207917 non-null  int64         \n",
      " 2   visited                     207917 non-null  int64         \n",
      " 3   creation_time               207917 non-null  datetime64[ns]\n",
      " 4   name                        207917 non-null  object        \n",
      " 5   email                       207917 non-null  object        \n",
      " 6   creation_source             207917 non-null  object        \n",
      " 7   last_session_creation_time  207917 non-null  datetime64[ns]\n",
      " 8   opted_in_to_mailing_list    207917 non-null  int64         \n",
      " 9   enabled_for_marketing_drip  207917 non-null  int64         \n",
      " 10  org_id                      207917 non-null  int64         \n",
      " 11  invited_by_user_id          116887 non-null  float64       \n",
      "dtypes: datetime64[ns](3), float64(1), int64(5), object(3)\n",
      "memory usage: 20.6+ MB\n"
     ]
    }
   ],
   "source": [
    "user_df.info()"
   ]
  },
  {
   "cell_type": "markdown",
   "id": "4d7b83f7",
   "metadata": {},
   "source": [
    "## Creating the Status Feature"
   ]
  },
  {
   "cell_type": "code",
   "execution_count": 16,
   "id": "ff277518",
   "metadata": {
    "scrolled": true
   },
   "outputs": [],
   "source": [
    "#Get earliest date of timestamp in pandas timedelta format\n",
    "min_date = pd.to_datetime(user_df.time_stamp.min())"
   ]
  },
  {
   "cell_type": "code",
   "execution_count": 17,
   "id": "d758a6ea",
   "metadata": {},
   "outputs": [],
   "source": [
    "#Get latest date of timestamp in pandas timedelta format\n",
    "max_date = pd.to_datetime(user_df.time_stamp.max())"
   ]
  },
  {
   "cell_type": "code",
   "execution_count": 18,
   "id": "d9f4f78b",
   "metadata": {},
   "outputs": [
    {
     "data": {
      "text/plain": [
       "Timedelta('7 days 00:00:00')"
      ]
     },
     "execution_count": 18,
     "metadata": {},
     "output_type": "execute_result"
    }
   ],
   "source": [
    "#Create a 7-day window in pandas timedelta format\n",
    "week = pd.to_timedelta(datetime.timedelta(days = 7))\n",
    "week"
   ]
  },
  {
   "cell_type": "code",
   "execution_count": 19,
   "id": "39a90039",
   "metadata": {},
   "outputs": [],
   "source": [
    "#Create list of 7-day periods between the earliest and latest time_stamp dates\n",
    "periods = []\n",
    "period_end = min_date\n",
    "while period_end < (max_date - week):\n",
    "    period_end += week\n",
    "    periods.append(period_end)    "
   ]
  },
  {
   "cell_type": "code",
   "execution_count": 20,
   "id": "bb8aace6",
   "metadata": {},
   "outputs": [
    {
     "data": {
      "text/plain": [
       "105"
      ]
     },
     "execution_count": 20,
     "metadata": {},
     "output_type": "execute_result"
    }
   ],
   "source": [
    "#Check count of number of periods\n",
    "len(periods)"
   ]
  },
  {
   "cell_type": "code",
   "execution_count": 21,
   "id": "aaa90491",
   "metadata": {
    "scrolled": true
   },
   "outputs": [
    {
     "data": {
      "text/plain": [
       "[Timestamp('2012-06-07 08:20:06'),\n",
       " Timestamp('2012-06-14 08:20:06'),\n",
       " Timestamp('2012-06-21 08:20:06'),\n",
       " Timestamp('2012-06-28 08:20:06'),\n",
       " Timestamp('2012-07-05 08:20:06')]"
      ]
     },
     "execution_count": 21,
     "metadata": {},
     "output_type": "execute_result"
    }
   ],
   "source": [
    "#Check sample of 5 periods\n",
    "periods[:5]"
   ]
  },
  {
   "cell_type": "code",
   "execution_count": 22,
   "id": "107a6932",
   "metadata": {},
   "outputs": [],
   "source": [
    "#Create a dictionary of lists for user_ids\n",
    "user_login_times = defaultdict(list)"
   ]
  },
  {
   "cell_type": "code",
   "execution_count": 23,
   "id": "b2268327",
   "metadata": {
    "scrolled": true
   },
   "outputs": [],
   "source": [
    "#Create dictionary of user logins for each period\n",
    "for user in users.object_id:\n",
    "    user_login_times[user] = [0] * (len(periods) - 1)\n",
    "    for login_time in user_df.loc[user_df.user_id == user, 'time_stamp']:\n",
    "        for idx in range(len(periods) - 2):\n",
    "            if periods[idx] < login_time <= periods[idx + 1]:\n",
    "                user_login_times[user][idx] += 1"
   ]
  },
  {
   "cell_type": "code",
   "execution_count": 24,
   "id": "20cbe2cd",
   "metadata": {},
   "outputs": [
    {
     "name": "stdout",
     "output_type": "stream",
     "text": [
      "<class 'pandas.core.frame.DataFrame'>\n",
      "RangeIndex: 104 entries, 0 to 103\n",
      "Columns: 12000 entries, 1 to 12000\n",
      "dtypes: int64(12000)\n",
      "memory usage: 9.5 MB\n"
     ]
    }
   ],
   "source": [
    "#Convert user_login_times to a dataframe\n",
    "user_login_periods = pd.DataFrame(user_login_times)\n",
    "user_login_periods.info()"
   ]
  },
  {
   "cell_type": "code",
   "execution_count": 25,
   "id": "a4c49086",
   "metadata": {},
   "outputs": [],
   "source": [
    "#Create a new feature called status and assign inactive to all users\n",
    "user_df['status'] = 'inactive_user'"
   ]
  },
  {
   "cell_type": "code",
   "execution_count": 26,
   "id": "24361079",
   "metadata": {},
   "outputs": [],
   "source": [
    "#Assign 'adopted_user' to status where max_weekly_logins is greater than or equal to 3\n",
    "for user, max_weekly_logins in enumerate(user_login_periods.max()):\n",
    "    if max_weekly_logins >= 3:\n",
    "        user_df.loc[user_df.user_id == user, 'status'] = 'adopted_user'    "
   ]
  },
  {
   "cell_type": "code",
   "execution_count": 27,
   "id": "b758842d",
   "metadata": {
    "scrolled": true
   },
   "outputs": [
    {
     "data": {
      "text/plain": [
       "inactive_user    184176\n",
       "adopted_user      23741\n",
       "Name: status, dtype: int64"
      ]
     },
     "execution_count": 27,
     "metadata": {},
     "output_type": "execute_result"
    }
   ],
   "source": [
    "#Check count of status categories\n",
    "user_df.status.value_counts()"
   ]
  },
  {
   "cell_type": "code",
   "execution_count": 28,
   "id": "6b0a1415",
   "metadata": {},
   "outputs": [
    {
     "data": {
      "text/plain": [
       "7.757718714460217"
      ]
     },
     "execution_count": 28,
     "metadata": {},
     "output_type": "execute_result"
    }
   ],
   "source": [
    "#Check data imbalance\n",
    "user_df.status.value_counts()[0] / user_df.status.value_counts()[1]"
   ]
  },
  {
   "cell_type": "code",
   "execution_count": 29,
   "id": "2f987801",
   "metadata": {
    "scrolled": true
   },
   "outputs": [
    {
     "data": {
      "image/png": "[encoded data removed]",
      "text/plain": [
       "<Figure size 432x288 with 1 Axes>"
      ]
     },
     "metadata": {
      "needs_background": "light"
     },
     "output_type": "display_data"
    }
   ],
   "source": [
    "#Plot chart \n",
    "user_df.status.value_counts().plot.bar()\n",
    "plt.title('Count of active and adopted users')\n",
    "plt.ylabel('Count');"
   ]
  },
  {
   "cell_type": "code",
   "execution_count": 30,
   "id": "674fa32d",
   "metadata": {
    "scrolled": false
   },
   "outputs": [
    {
     "name": "stdout",
     "output_type": "stream",
     "text": [
      "<class 'pandas.core.frame.DataFrame'>\n",
      "Int64Index: 207917 entries, 0 to 207916\n",
      "Data columns (total 13 columns):\n",
      " #   Column                      Non-Null Count   Dtype         \n",
      "---  ------                      --------------   -----         \n",
      " 0   time_stamp                  207917 non-null  datetime64[ns]\n",
      " 1   user_id                     207917 non-null  int64         \n",
      " 2   visited                     207917 non-null  int64         \n",
      " 3   creation_time               207917 non-null  datetime64[ns]\n",
      " 4   name                        207917 non-null  object        \n",
      " 5   email                       207917 non-null  object        \n",
      " 6   creation_source             207917 non-null  object        \n",
      " 7   last_session_creation_time  207917 non-null  datetime64[ns]\n",
      " 8   opted_in_to_mailing_list    207917 non-null  int64         \n",
      " 9   enabled_for_marketing_drip  207917 non-null  int64         \n",
      " 10  org_id                      207917 non-null  int64         \n",
      " 11  invited_by_user_id          116887 non-null  float64       \n",
      " 12  status                      207917 non-null  object        \n",
      "dtypes: datetime64[ns](3), float64(1), int64(5), object(4)\n",
      "memory usage: 22.2+ MB\n"
     ]
    }
   ],
   "source": [
    "user_df.info()"
   ]
  },
  {
   "cell_type": "markdown",
   "id": "384efa39",
   "metadata": {},
   "source": [
    "## Reviewing Features"
   ]
  },
  {
   "cell_type": "markdown",
   "id": "72331c52",
   "metadata": {},
   "source": [
    "Using pandas profile report to check features"
   ]
  },
  {
   "cell_type": "code",
   "execution_count": 31,
   "id": "7118165c",
   "metadata": {},
   "outputs": [],
   "source": [
    "profile = ProfileReport(user_df, title=\"Pandas Profiling Report\")"
   ]
  },
  {
   "cell_type": "code",
   "execution_count": 32,
   "id": "a7ad81c3",
   "metadata": {
    "scrolled": false
   },
   "outputs": [],
   "source": [
    "#profile"
   ]
  },
  {
   "cell_type": "code",
   "execution_count": 33,
   "id": "78d15c82",
   "metadata": {
    "scrolled": false
   },
   "outputs": [
    {
     "data": {
      "text/html": [
       "<div>\n",
       "<style scoped>\n",
       "    .dataframe tbody tr th:only-of-type {\n",
       "        vertical-align: middle;\n",
       "    }\n",
       "\n",
       "    .dataframe tbody tr th {\n",
       "        vertical-align: top;\n",
       "    }\n",
       "\n",
       "    .dataframe thead th {\n",
       "        text-align: right;\n",
       "    }\n",
       "</style>\n",
       "<table border=\"1\" class=\"dataframe\">\n",
       "  <thead>\n",
       "    <tr style=\"text-align: right;\">\n",
       "      <th></th>\n",
       "      <th>time_stamp</th>\n",
       "      <th>user_id</th>\n",
       "      <th>visited</th>\n",
       "      <th>creation_time</th>\n",
       "      <th>name</th>\n",
       "      <th>email</th>\n",
       "      <th>creation_source</th>\n",
       "      <th>last_session_creation_time</th>\n",
       "      <th>opted_in_to_mailing_list</th>\n",
       "      <th>enabled_for_marketing_drip</th>\n",
       "      <th>org_id</th>\n",
       "      <th>invited_by_user_id</th>\n",
       "      <th>status</th>\n",
       "    </tr>\n",
       "  </thead>\n",
       "  <tbody>\n",
       "    <tr>\n",
       "      <th>0</th>\n",
       "      <td>2014-04-22 03:53:30</td>\n",
       "      <td>1</td>\n",
       "      <td>1</td>\n",
       "      <td>2014-04-22 03:53:30</td>\n",
       "      <td>Clausen August</td>\n",
       "      <td>AugustCClausen@yahoo.com</td>\n",
       "      <td>GUEST_INVITE</td>\n",
       "      <td>1970-01-01 00:00:01.398138810</td>\n",
       "      <td>1</td>\n",
       "      <td>0</td>\n",
       "      <td>11</td>\n",
       "      <td>10803.0</td>\n",
       "      <td>adopted_user</td>\n",
       "    </tr>\n",
       "    <tr>\n",
       "      <th>1</th>\n",
       "      <td>2013-11-15 03:45:04</td>\n",
       "      <td>2</td>\n",
       "      <td>1</td>\n",
       "      <td>2013-11-15 03:45:04</td>\n",
       "      <td>Poole Matthew</td>\n",
       "      <td>MatthewPoole@gustr.com</td>\n",
       "      <td>ORG_INVITE</td>\n",
       "      <td>1970-01-01 00:00:01.396237504</td>\n",
       "      <td>0</td>\n",
       "      <td>0</td>\n",
       "      <td>1</td>\n",
       "      <td>316.0</td>\n",
       "      <td>inactive_user</td>\n",
       "    </tr>\n",
       "  </tbody>\n",
       "</table>\n",
       "</div>"
      ],
      "text/plain": [
       "           time_stamp  user_id  visited       creation_time            name  \\\n",
       "0 2014-04-22 03:53:30        1        1 2014-04-22 03:53:30  Clausen August   \n",
       "1 2013-11-15 03:45:04        2        1 2013-11-15 03:45:04   Poole Matthew   \n",
       "\n",
       "                      email creation_source    last_session_creation_time  \\\n",
       "0  AugustCClausen@yahoo.com    GUEST_INVITE 1970-01-01 00:00:01.398138810   \n",
       "1    MatthewPoole@gustr.com      ORG_INVITE 1970-01-01 00:00:01.396237504   \n",
       "\n",
       "   opted_in_to_mailing_list  enabled_for_marketing_drip  org_id  \\\n",
       "0                         1                           0      11   \n",
       "1                         0                           0       1   \n",
       "\n",
       "   invited_by_user_id         status  \n",
       "0             10803.0   adopted_user  \n",
       "1               316.0  inactive_user  "
      ]
     },
     "execution_count": 33,
     "metadata": {},
     "output_type": "execute_result"
    }
   ],
   "source": [
    "user_df.head(2)"
   ]
  },
  {
   "cell_type": "markdown",
   "id": "5fe7cfef",
   "metadata": {},
   "source": [
    "### user_id, name and email"
   ]
  },
  {
   "cell_type": "markdown",
   "id": "43e46a75",
   "metadata": {},
   "source": [
    "User_id, name and email, are unique identifiers for each user. These features are not relevant for predicting status because using them may lead to data leakage. "
   ]
  },
  {
   "cell_type": "markdown",
   "id": "296ea5ee",
   "metadata": {},
   "source": [
    "### creation_time"
   ]
  },
  {
   "cell_type": "code",
   "execution_count": 34,
   "id": "1fb3e397",
   "metadata": {},
   "outputs": [
    {
     "data": {
      "text/plain": [
       "count                           207917\n",
       "mean     2013-01-16 06:36:50.297734144\n",
       "min                2012-05-31 00:43:27\n",
       "25%                2012-08-22 20:39:37\n",
       "50%                2012-12-06 02:21:47\n",
       "75%                2013-05-12 20:39:27\n",
       "max                2014-05-30 23:59:19\n",
       "Name: creation_time, dtype: object"
      ]
     },
     "execution_count": 34,
     "metadata": {},
     "output_type": "execute_result"
    }
   ],
   "source": [
    "user_df.creation_time.describe(datetime_is_numeric = True)"
   ]
  },
  {
   "cell_type": "markdown",
   "id": "f559fa47",
   "metadata": {},
   "source": [
    "creation_time might be useful. Perhaps some individuals signed up for the service at a time when their industry required that tool."
   ]
  },
  {
   "cell_type": "markdown",
   "id": "cb84f7a5",
   "metadata": {},
   "source": [
    "### creation_source"
   ]
  },
  {
   "cell_type": "code",
   "execution_count": 35,
   "id": "ea7bdcb0",
   "metadata": {},
   "outputs": [
    {
     "data": {
      "text/plain": [
       "count         207917\n",
       "unique             5\n",
       "top       ORG_INVITE\n",
       "freq           70091\n",
       "Name: creation_source, dtype: object"
      ]
     },
     "execution_count": 35,
     "metadata": {},
     "output_type": "execute_result"
    }
   ],
   "source": [
    "user_df.creation_source.describe()"
   ]
  },
  {
   "cell_type": "code",
   "execution_count": 36,
   "id": "fdf2f082",
   "metadata": {},
   "outputs": [
    {
     "data": {
      "text/plain": [
       "ORG_INVITE            70091\n",
       "GUEST_INVITE          46796\n",
       "SIGNUP                37545\n",
       "SIGNUP_GOOGLE_AUTH    34263\n",
       "PERSONAL_PROJECTS     19222\n",
       "Name: creation_source, dtype: int64"
      ]
     },
     "execution_count": 36,
     "metadata": {},
     "output_type": "execute_result"
    }
   ],
   "source": [
    "user_df.creation_source.value_counts()"
   ]
  },
  {
   "cell_type": "markdown",
   "id": "bd2cdb08",
   "metadata": {},
   "source": [
    "creation_source may be a useful feature because it has 5 unique values that may influence variation of status. Organization signups may lead to more adoption than personal signups."
   ]
  },
  {
   "cell_type": "markdown",
   "id": "b26926e4",
   "metadata": {},
   "source": [
    "### last_session_creation_time"
   ]
  },
  {
   "cell_type": "code",
   "execution_count": 37,
   "id": "b749a10e",
   "metadata": {},
   "outputs": [
    {
     "data": {
      "text/plain": [
       "count                           207917\n",
       "mean     1970-01-01 00:00:01.399439486\n",
       "min      1970-01-01 00:00:01.338452406\n",
       "25%      1970-01-01 00:00:01.401044707\n",
       "50%      1970-01-01 00:00:01.401664957\n",
       "75%      1970-01-01 00:00:01.401868134\n",
       "max      1970-01-01 00:00:01.402066730\n",
       "Name: last_session_creation_time, dtype: object"
      ]
     },
     "execution_count": 37,
     "metadata": {},
     "output_type": "execute_result"
    }
   ],
   "source": [
    "user_df.last_session_creation_time.describe(datetime_is_numeric = True)"
   ]
  },
  {
   "cell_type": "markdown",
   "id": "3909ed32",
   "metadata": {},
   "source": [
    "We note that this feature is useless because it suggests that everyone logged in to a session on the same day. We will remove this feature."
   ]
  },
  {
   "cell_type": "markdown",
   "id": "176684cb",
   "metadata": {},
   "source": [
    "### opted_in_to_mailing_list"
   ]
  },
  {
   "cell_type": "code",
   "execution_count": 38,
   "id": "76e7e35b",
   "metadata": {
    "scrolled": true
   },
   "outputs": [
    {
     "data": {
      "text/plain": [
       "count    207917.000000\n",
       "mean          0.258137\n",
       "std           0.437611\n",
       "min           0.000000\n",
       "25%           0.000000\n",
       "50%           0.000000\n",
       "75%           1.000000\n",
       "max           1.000000\n",
       "Name: opted_in_to_mailing_list, dtype: float64"
      ]
     },
     "execution_count": 38,
     "metadata": {},
     "output_type": "execute_result"
    }
   ],
   "source": [
    "user_df.opted_in_to_mailing_list.describe()"
   ]
  },
  {
   "cell_type": "code",
   "execution_count": 39,
   "id": "2aa7af85",
   "metadata": {},
   "outputs": [
    {
     "data": {
      "text/plain": [
       "0    154246\n",
       "1     53671\n",
       "Name: opted_in_to_mailing_list, dtype: int64"
      ]
     },
     "execution_count": 39,
     "metadata": {},
     "output_type": "execute_result"
    }
   ],
   "source": [
    "user_df.opted_in_to_mailing_list.value_counts()"
   ]
  },
  {
   "cell_type": "markdown",
   "id": "576f9b63",
   "metadata": {},
   "source": [
    "This feature should be categorical because it only as 2 values - 0 and 1. It is an ordinal variable. It tells us whether or not an individual opted into a mailing list. Individuals who opt-in are likely ones that use the service frequently and are therefore adopters."
   ]
  },
  {
   "cell_type": "markdown",
   "id": "686cba52",
   "metadata": {},
   "source": [
    "### enabled_for_marketing_drip"
   ]
  },
  {
   "cell_type": "code",
   "execution_count": 40,
   "id": "f6d273dd",
   "metadata": {},
   "outputs": [
    {
     "data": {
      "text/plain": [
       "count    207917.000000\n",
       "mean          0.154533\n",
       "std           0.361460\n",
       "min           0.000000\n",
       "25%           0.000000\n",
       "50%           0.000000\n",
       "75%           0.000000\n",
       "max           1.000000\n",
       "Name: enabled_for_marketing_drip, dtype: float64"
      ]
     },
     "execution_count": 40,
     "metadata": {},
     "output_type": "execute_result"
    }
   ],
   "source": [
    "user_df.enabled_for_marketing_drip.describe()"
   ]
  },
  {
   "cell_type": "code",
   "execution_count": 41,
   "id": "df73017f",
   "metadata": {},
   "outputs": [
    {
     "data": {
      "text/plain": [
       "0    175787\n",
       "1     32130\n",
       "Name: enabled_for_marketing_drip, dtype: int64"
      ]
     },
     "execution_count": 41,
     "metadata": {},
     "output_type": "execute_result"
    }
   ],
   "source": [
    "user_df.enabled_for_marketing_drip.value_counts()"
   ]
  },
  {
   "cell_type": "markdown",
   "id": "f1140c23",
   "metadata": {},
   "source": [
    "Similar to opted_in_to_mailing_list, enabled_for_marketing_drip is likely to be important because individuals who receive marketing information are more likely to use the service more often. It is also an ordinal variable. "
   ]
  },
  {
   "cell_type": "markdown",
   "id": "82654c3c",
   "metadata": {},
   "source": [
    "### org_id"
   ]
  },
  {
   "cell_type": "code",
   "execution_count": 42,
   "id": "26bd9a73",
   "metadata": {},
   "outputs": [
    {
     "data": {
      "text/plain": [
       "count    207917.000000\n",
       "mean        164.315895\n",
       "std         121.165846\n",
       "min           0.000000\n",
       "25%          60.000000\n",
       "50%         145.000000\n",
       "75%         260.000000\n",
       "max         416.000000\n",
       "Name: org_id, dtype: float64"
      ]
     },
     "execution_count": 42,
     "metadata": {},
     "output_type": "execute_result"
    }
   ],
   "source": [
    "user_df.org_id.describe()"
   ]
  },
  {
   "cell_type": "code",
   "execution_count": 43,
   "id": "7d6a2283",
   "metadata": {
    "scrolled": true
   },
   "outputs": [
    {
     "data": {
      "text/plain": [
       "1      2298\n",
       "13     2098\n",
       "62     2072\n",
       "4      2064\n",
       "2      1967\n",
       "       ... \n",
       "396       9\n",
       "412       8\n",
       "183       8\n",
       "355       7\n",
       "416       2\n",
       "Name: org_id, Length: 417, dtype: int64"
      ]
     },
     "execution_count": 43,
     "metadata": {},
     "output_type": "execute_result"
    }
   ],
   "source": [
    "user_df.org_id.value_counts()"
   ]
  },
  {
   "cell_type": "markdown",
   "id": "0d22228e",
   "metadata": {},
   "source": [
    "This uniquely identifies and organization using the service. It is likely to be important because certain organizations may use the service more often than others. It is also a nominal variable. "
   ]
  },
  {
   "cell_type": "markdown",
   "id": "f5844457",
   "metadata": {},
   "source": [
    "### invited_by_user_id"
   ]
  },
  {
   "cell_type": "code",
   "execution_count": 44,
   "id": "418568e2",
   "metadata": {},
   "outputs": [
    {
     "data": {
      "text/plain": [
       "count    116887.000000\n",
       "mean       5972.167555\n",
       "std        3247.095621\n",
       "min           3.000000\n",
       "25%        3269.000000\n",
       "50%        5972.000000\n",
       "75%        8513.000000\n",
       "max       11999.000000\n",
       "Name: invited_by_user_id, dtype: float64"
      ]
     },
     "execution_count": 44,
     "metadata": {},
     "output_type": "execute_result"
    }
   ],
   "source": [
    "user_df.invited_by_user_id.describe()"
   ]
  },
  {
   "cell_type": "code",
   "execution_count": 45,
   "id": "b722dcab",
   "metadata": {},
   "outputs": [
    {
     "data": {
      "text/plain": [
       "4019.0    918\n",
       "7816.0    903\n",
       "3623.0    744\n",
       "7358.0    712\n",
       "6312.0    705\n",
       "         ... \n",
       "3297.0      1\n",
       "2878.0      1\n",
       "6189.0      1\n",
       "8324.0      1\n",
       "5788.0      1\n",
       "Name: invited_by_user_id, Length: 2229, dtype: int64"
      ]
     },
     "execution_count": 45,
     "metadata": {},
     "output_type": "execute_result"
    }
   ],
   "source": [
    "user_df.invited_by_user_id.value_counts()"
   ]
  },
  {
   "cell_type": "markdown",
   "id": "9ceb2eab",
   "metadata": {},
   "source": [
    "This feature may be important. It may suggest that individuals invited by someone are more likely to become adopters than individual invited by someone else. This is a nominal feature, and we note that it has high cardinality, so it usefulness may be limited. It also has missing values, which may suggest that these individuals were not invited."
   ]
  },
  {
   "cell_type": "markdown",
   "id": "98880478",
   "metadata": {},
   "source": [
    "### time_stamp"
   ]
  },
  {
   "cell_type": "code",
   "execution_count": 46,
   "id": "80c2d010",
   "metadata": {},
   "outputs": [
    {
     "data": {
      "text/plain": [
       "count                           207917\n",
       "mean     2013-10-30 05:06:45.648763648\n",
       "min                2012-05-31 08:20:06\n",
       "25%                2013-07-16 20:17:21\n",
       "50%                2013-12-03 06:38:34\n",
       "75%                2014-03-13 08:00:24\n",
       "max                2014-06-06 14:58:50\n",
       "Name: time_stamp, dtype: object"
      ]
     },
     "execution_count": 46,
     "metadata": {},
     "output_type": "execute_result"
    }
   ],
   "source": [
    "user_df.time_stamp.describe(datetime_is_numeric = True)"
   ]
  },
  {
   "cell_type": "markdown",
   "id": "34fdaef2",
   "metadata": {},
   "source": [
    "the time_stamp feature is likely to be important because it gives us information on moments when users use the service."
   ]
  },
  {
   "cell_type": "markdown",
   "id": "e10c57e4",
   "metadata": {},
   "source": [
    "### visited"
   ]
  },
  {
   "cell_type": "code",
   "execution_count": 47,
   "id": "0c4c31c2",
   "metadata": {},
   "outputs": [
    {
     "data": {
      "text/plain": [
       "count    207917.0\n",
       "mean          1.0\n",
       "std           0.0\n",
       "min           1.0\n",
       "25%           1.0\n",
       "50%           1.0\n",
       "75%           1.0\n",
       "max           1.0\n",
       "Name: visited, dtype: float64"
      ]
     },
     "execution_count": 47,
     "metadata": {},
     "output_type": "execute_result"
    }
   ],
   "source": [
    "user_df.visited.describe()"
   ]
  },
  {
   "cell_type": "code",
   "execution_count": 48,
   "id": "b7db2689",
   "metadata": {},
   "outputs": [
    {
     "data": {
      "text/plain": [
       "1    207917\n",
       "Name: visited, dtype: int64"
      ]
     },
     "execution_count": 48,
     "metadata": {},
     "output_type": "execute_result"
    }
   ],
   "source": [
    "user_df.visited.value_counts()"
   ]
  },
  {
   "cell_type": "markdown",
   "id": "447fea9c",
   "metadata": {},
   "source": [
    "This feature has only one value and so is unlikely to be useful."
   ]
  },
  {
   "cell_type": "code",
   "execution_count": 49,
   "id": "58647609",
   "metadata": {},
   "outputs": [],
   "source": [
    "#Dropping useless features\n",
    "useless_features = ['visited', 'last_session_creation_time', 'user_id', 'name', 'email']\n",
    "user_df.drop(columns = useless_features, inplace = True)"
   ]
  },
  {
   "cell_type": "code",
   "execution_count": 50,
   "id": "3abd5ebf",
   "metadata": {
    "scrolled": true
   },
   "outputs": [
    {
     "name": "stdout",
     "output_type": "stream",
     "text": [
      "<class 'pandas.core.frame.DataFrame'>\n",
      "Int64Index: 207917 entries, 0 to 207916\n",
      "Data columns (total 8 columns):\n",
      " #   Column                      Non-Null Count   Dtype         \n",
      "---  ------                      --------------   -----         \n",
      " 0   time_stamp                  207917 non-null  datetime64[ns]\n",
      " 1   creation_time               207917 non-null  datetime64[ns]\n",
      " 2   creation_source             207917 non-null  object        \n",
      " 3   opted_in_to_mailing_list    207917 non-null  int64         \n",
      " 4   enabled_for_marketing_drip  207917 non-null  int64         \n",
      " 5   org_id                      207917 non-null  int64         \n",
      " 6   invited_by_user_id          116887 non-null  float64       \n",
      " 7   status                      207917 non-null  object        \n",
      "dtypes: datetime64[ns](2), float64(1), int64(3), object(2)\n",
      "memory usage: 14.3+ MB\n"
     ]
    }
   ],
   "source": [
    "user_df.info()"
   ]
  },
  {
   "cell_type": "markdown",
   "id": "e8cbf774",
   "metadata": {},
   "source": [
    "## Dealing with Missing Values"
   ]
  },
  {
   "cell_type": "markdown",
   "id": "55036737",
   "metadata": {},
   "source": [
    "We note that invited_by_user_id is the only feature with missing values. We can explore the nature of missingness."
   ]
  },
  {
   "cell_type": "code",
   "execution_count": 51,
   "id": "164265ee",
   "metadata": {},
   "outputs": [
    {
     "data": {
      "text/plain": [
       "0.43781893736442906"
      ]
     },
     "execution_count": 51,
     "metadata": {},
     "output_type": "execute_result"
    }
   ],
   "source": [
    "#Review missingness of invited_by_user_id\n",
    "user_df.invited_by_user_id.isnull().sum() / user_df.invited_by_user_id.shape[0]"
   ]
  },
  {
   "cell_type": "markdown",
   "id": "e063f79f",
   "metadata": {},
   "source": [
    "We observe that over 40% of users were not referred. "
   ]
  },
  {
   "cell_type": "markdown",
   "id": "14431560",
   "metadata": {},
   "source": [
    "## Converting Nominal Features that are Numeric to Objects"
   ]
  },
  {
   "cell_type": "code",
   "execution_count": 52,
   "id": "4b437069",
   "metadata": {},
   "outputs": [],
   "source": [
    "#Set numerical nominal features to objects\n",
    "user_df.invited_by_user_id = user_df.invited_by_user_id.astype('object')\n",
    "user_df.org_id = user_df.org_id.astype('object')"
   ]
  },
  {
   "cell_type": "markdown",
   "id": "780d8d8e",
   "metadata": {},
   "source": [
    "## Dealing with High Cardinality Features"
   ]
  },
  {
   "cell_type": "markdown",
   "id": "0efc03a9",
   "metadata": {},
   "source": [
    "### invited_by_user_id"
   ]
  },
  {
   "cell_type": "code",
   "execution_count": 53,
   "id": "f74f898a",
   "metadata": {
    "scrolled": true
   },
   "outputs": [
    {
     "data": {
      "text/plain": [
       "4019.0    918\n",
       "7816.0    903\n",
       "3623.0    744\n",
       "7358.0    712\n",
       "6312.0    705\n",
       "         ... \n",
       "7916.0      1\n",
       "7918.0      1\n",
       "2801.0      1\n",
       "2751.0      1\n",
       "3.0         1\n",
       "Name: invited_by_user_id, Length: 2229, dtype: int64"
      ]
     },
     "execution_count": 53,
     "metadata": {},
     "output_type": "execute_result"
    }
   ],
   "source": [
    "user_df.invited_by_user_id.value_counts()"
   ]
  },
  {
   "cell_type": "markdown",
   "id": "189ce9ab",
   "metadata": {},
   "source": [
    "We can create a new feature that provides information on the type of referrer. Whether the referrer refers many people or not. We can set ordinal values for this feature.\n",
    "- A 0 corresponds to no referral\n",
    "- 1 to 4 corresponds to low, mid, high and very-high referers. "
   ]
  },
  {
   "cell_type": "code",
   "execution_count": 54,
   "id": "9cc70145",
   "metadata": {},
   "outputs": [],
   "source": [
    "#Define referrer feature and set default to 0\n",
    "user_df['referrer_type'] = int(0)"
   ]
  },
  {
   "cell_type": "code",
   "execution_count": 55,
   "id": "550abc7b",
   "metadata": {},
   "outputs": [
    {
     "data": {
      "text/plain": [
       "4019.0    918\n",
       "7816.0    903\n",
       "3623.0    744\n",
       "7358.0    712\n",
       "6312.0    705\n",
       "         ... \n",
       "7916.0      1\n",
       "7918.0      1\n",
       "2801.0      1\n",
       "2751.0      1\n",
       "3.0         1\n",
       "Name: invited_by_user_id, Length: 2229, dtype: int64"
      ]
     },
     "execution_count": 55,
     "metadata": {},
     "output_type": "execute_result"
    }
   ],
   "source": [
    "referrer_counts = user_df.invited_by_user_id.value_counts()\n",
    "referrer_counts"
   ]
  },
  {
   "cell_type": "code",
   "execution_count": 56,
   "id": "2b7292de",
   "metadata": {},
   "outputs": [],
   "source": [
    "freq, bins = np.histogram(referrer_counts, bins = 4)"
   ]
  },
  {
   "cell_type": "code",
   "execution_count": 57,
   "id": "56124251",
   "metadata": {},
   "outputs": [
    {
     "data": {
      "text/plain": [
       "[1.0, 230.25, 459.5, 688.75, 918.0]"
      ]
     },
     "execution_count": 57,
     "metadata": {},
     "output_type": "execute_result"
    }
   ],
   "source": [
    "count_list = bins.tolist()\n",
    "count_list"
   ]
  },
  {
   "cell_type": "code",
   "execution_count": 58,
   "id": "ea910164",
   "metadata": {},
   "outputs": [],
   "source": [
    "for referrer, count in referrer_counts.items():\n",
    "    if count_list[0] < count <= count_list[1]:\n",
    "        user_df.loc[user_df.invited_by_user_id == referrer, 'referrer_type'] = 1\n",
    "    elif count_list[1] < count <= count_list[2]:\n",
    "        user_df.loc[user_df.invited_by_user_id == referrer, 'referrer_type'] = 2\n",
    "    elif count_list[2] < count <= count_list[3]:\n",
    "        user_df.loc[user_df.invited_by_user_id == referrer, 'referrer_type'] = 3\n",
    "    else:\n",
    "        user_df.loc[user_df.invited_by_user_id == referrer, 'referrer_type'] = 4"
   ]
  },
  {
   "cell_type": "code",
   "execution_count": 59,
   "id": "8db1119b",
   "metadata": {
    "scrolled": false
   },
   "outputs": [
    {
     "data": {
      "image/png": "[encoded data removed]",
      "text/plain": [
       "<Figure size 432x288 with 1 Axes>"
      ]
     },
     "metadata": {
      "needs_background": "light"
     },
     "output_type": "display_data"
    }
   ],
   "source": [
    "#View bar plot of referrer_type \n",
    "user_df.referrer_type.value_counts().plot.bar()\n",
    "plt.title('Count of referrer_type')\n",
    "plt.xlabel('referrer_type')\n",
    "plt.ylabel('count');"
   ]
  },
  {
   "cell_type": "markdown",
   "id": "871ae539",
   "metadata": {},
   "source": [
    "### org_id"
   ]
  },
  {
   "cell_type": "markdown",
   "id": "3433520f",
   "metadata": {},
   "source": [
    "We can replicate the approach used to deal with the high cardinality of invited_by_user_id for org_id. We will divide organizations into 4 tiers related to how many users they have and set ordinal values for them ranging from 1 to 4. \n",
    "- 1 to 4 corresponds to low, mid, high and very-high users from an organization. "
   ]
  },
  {
   "cell_type": "code",
   "execution_count": 60,
   "id": "b661f55a",
   "metadata": {},
   "outputs": [],
   "source": [
    "#Define org_type feature and set default to 1\n",
    "user_df['org_type'] = int(1)"
   ]
  },
  {
   "cell_type": "code",
   "execution_count": 61,
   "id": "138a1b04",
   "metadata": {
    "scrolled": true
   },
   "outputs": [
    {
     "data": {
      "text/plain": [
       "1      2298\n",
       "13     2098\n",
       "62     2072\n",
       "4      2064\n",
       "2      1967\n",
       "       ... \n",
       "396       9\n",
       "183       8\n",
       "412       8\n",
       "355       7\n",
       "416       2\n",
       "Name: org_id, Length: 417, dtype: int64"
      ]
     },
     "execution_count": 61,
     "metadata": {},
     "output_type": "execute_result"
    }
   ],
   "source": [
    "org_counts = user_df.org_id.value_counts()\n",
    "org_counts"
   ]
  },
  {
   "cell_type": "code",
   "execution_count": 62,
   "id": "adeef6e4",
   "metadata": {},
   "outputs": [
    {
     "data": {
      "text/plain": [
       "[2.0, 576.0, 1150.0, 1724.0, 2298.0]"
      ]
     },
     "execution_count": 62,
     "metadata": {},
     "output_type": "execute_result"
    }
   ],
   "source": [
    "freq_org, bins_org = np.histogram(org_counts, bins = 4)\n",
    "count_list_org = bins_org.tolist()\n",
    "count_list_org"
   ]
  },
  {
   "cell_type": "code",
   "execution_count": 63,
   "id": "2415d354",
   "metadata": {},
   "outputs": [],
   "source": [
    "for org, org_count in org_counts.items():\n",
    "    if count_list_org[1] < org_count <= count_list_org[2]:\n",
    "        user_df.loc[user_df.org_id == org, 'org_type'] = 2\n",
    "    elif count_list_org[2] < org_count <= count_list_org[3]:\n",
    "        user_df.loc[user_df.org_id == org, 'org_type'] = 3\n",
    "    elif count_list_org[3] < org_count <= count_list_org[4]:\n",
    "        user_df.loc[user_df.org_id == org, 'org_type'] = 4"
   ]
  },
  {
   "cell_type": "code",
   "execution_count": 64,
   "id": "eef81563",
   "metadata": {},
   "outputs": [
    {
     "data": {
      "image/png": "[encoded data removed]",
      "text/plain": [
       "<Figure size 432x288 with 1 Axes>"
      ]
     },
     "metadata": {
      "needs_background": "light"
     },
     "output_type": "display_data"
    }
   ],
   "source": [
    "#View bar plot of org_type \n",
    "user_df.org_type.value_counts().plot.bar()\n",
    "plt.title('Count of org_type')\n",
    "plt.xlabel('org_type')\n",
    "plt.ylabel('count');"
   ]
  },
  {
   "cell_type": "code",
   "execution_count": 65,
   "id": "d976822a",
   "metadata": {},
   "outputs": [
    {
     "data": {
      "text/html": [
       "<div>\n",
       "<style scoped>\n",
       "    .dataframe tbody tr th:only-of-type {\n",
       "        vertical-align: middle;\n",
       "    }\n",
       "\n",
       "    .dataframe tbody tr th {\n",
       "        vertical-align: top;\n",
       "    }\n",
       "\n",
       "    .dataframe thead th {\n",
       "        text-align: right;\n",
       "    }\n",
       "</style>\n",
       "<table border=\"1\" class=\"dataframe\">\n",
       "  <thead>\n",
       "    <tr style=\"text-align: right;\">\n",
       "      <th></th>\n",
       "      <th>time_stamp</th>\n",
       "      <th>creation_time</th>\n",
       "      <th>creation_source</th>\n",
       "      <th>opted_in_to_mailing_list</th>\n",
       "      <th>enabled_for_marketing_drip</th>\n",
       "      <th>status</th>\n",
       "      <th>referrer_type</th>\n",
       "      <th>org_type</th>\n",
       "    </tr>\n",
       "  </thead>\n",
       "  <tbody>\n",
       "    <tr>\n",
       "      <th>0</th>\n",
       "      <td>2014-04-22 03:53:30</td>\n",
       "      <td>2014-04-22 03:53:30</td>\n",
       "      <td>GUEST_INVITE</td>\n",
       "      <td>1</td>\n",
       "      <td>0</td>\n",
       "      <td>adopted_user</td>\n",
       "      <td>4</td>\n",
       "      <td>2</td>\n",
       "    </tr>\n",
       "    <tr>\n",
       "      <th>1</th>\n",
       "      <td>2013-11-15 03:45:04</td>\n",
       "      <td>2013-11-15 03:45:04</td>\n",
       "      <td>ORG_INVITE</td>\n",
       "      <td>0</td>\n",
       "      <td>0</td>\n",
       "      <td>inactive_user</td>\n",
       "      <td>1</td>\n",
       "      <td>4</td>\n",
       "    </tr>\n",
       "    <tr>\n",
       "      <th>2</th>\n",
       "      <td>2013-11-29 03:45:04</td>\n",
       "      <td>2013-11-15 03:45:04</td>\n",
       "      <td>ORG_INVITE</td>\n",
       "      <td>0</td>\n",
       "      <td>0</td>\n",
       "      <td>inactive_user</td>\n",
       "      <td>1</td>\n",
       "      <td>4</td>\n",
       "    </tr>\n",
       "    <tr>\n",
       "      <th>3</th>\n",
       "      <td>2013-12-09 03:45:04</td>\n",
       "      <td>2013-11-15 03:45:04</td>\n",
       "      <td>ORG_INVITE</td>\n",
       "      <td>0</td>\n",
       "      <td>0</td>\n",
       "      <td>inactive_user</td>\n",
       "      <td>1</td>\n",
       "      <td>4</td>\n",
       "    </tr>\n",
       "    <tr>\n",
       "      <th>4</th>\n",
       "      <td>2013-12-25 03:45:04</td>\n",
       "      <td>2013-11-15 03:45:04</td>\n",
       "      <td>ORG_INVITE</td>\n",
       "      <td>0</td>\n",
       "      <td>0</td>\n",
       "      <td>inactive_user</td>\n",
       "      <td>1</td>\n",
       "      <td>4</td>\n",
       "    </tr>\n",
       "  </tbody>\n",
       "</table>\n",
       "</div>"
      ],
      "text/plain": [
       "           time_stamp       creation_time creation_source  \\\n",
       "0 2014-04-22 03:53:30 2014-04-22 03:53:30    GUEST_INVITE   \n",
       "1 2013-11-15 03:45:04 2013-11-15 03:45:04      ORG_INVITE   \n",
       "2 2013-11-29 03:45:04 2013-11-15 03:45:04      ORG_INVITE   \n",
       "3 2013-12-09 03:45:04 2013-11-15 03:45:04      ORG_INVITE   \n",
       "4 2013-12-25 03:45:04 2013-11-15 03:45:04      ORG_INVITE   \n",
       "\n",
       "   opted_in_to_mailing_list  enabled_for_marketing_drip         status  \\\n",
       "0                         1                           0   adopted_user   \n",
       "1                         0                           0  inactive_user   \n",
       "2                         0                           0  inactive_user   \n",
       "3                         0                           0  inactive_user   \n",
       "4                         0                           0  inactive_user   \n",
       "\n",
       "   referrer_type  org_type  \n",
       "0              4         2  \n",
       "1              1         4  \n",
       "2              1         4  \n",
       "3              1         4  \n",
       "4              1         4  "
      ]
     },
     "execution_count": 65,
     "metadata": {},
     "output_type": "execute_result"
    }
   ],
   "source": [
    "#Having simplified our high-cardinality features, we can drop them\n",
    "user_df.drop(columns = ['invited_by_user_id', 'org_id'], inplace = True)\n",
    "user_df.head()"
   ]
  },
  {
   "cell_type": "markdown",
   "id": "8b5260a6",
   "metadata": {},
   "source": [
    "## Engineering Datetime Features"
   ]
  },
  {
   "cell_type": "markdown",
   "id": "7aa4befc",
   "metadata": {},
   "source": [
    "We can breakdown our time_stamp and creation_time."
   ]
  },
  {
   "cell_type": "code",
   "execution_count": 66,
   "id": "9c4ab1e3",
   "metadata": {},
   "outputs": [
    {
     "data": {
      "text/html": [
       "<div>\n",
       "<style scoped>\n",
       "    .dataframe tbody tr th:only-of-type {\n",
       "        vertical-align: middle;\n",
       "    }\n",
       "\n",
       "    .dataframe tbody tr th {\n",
       "        vertical-align: top;\n",
       "    }\n",
       "\n",
       "    .dataframe thead th {\n",
       "        text-align: right;\n",
       "    }\n",
       "</style>\n",
       "<table border=\"1\" class=\"dataframe\">\n",
       "  <thead>\n",
       "    <tr style=\"text-align: right;\">\n",
       "      <th></th>\n",
       "      <th>creation_source</th>\n",
       "      <th>opted_in_to_mailing_list</th>\n",
       "      <th>enabled_for_marketing_drip</th>\n",
       "      <th>status</th>\n",
       "      <th>referrer_type</th>\n",
       "      <th>org_type</th>\n",
       "      <th>time_stamp_year</th>\n",
       "      <th>time_stamp_month</th>\n",
       "      <th>time_stamp_day</th>\n",
       "      <th>creation_time_year</th>\n",
       "      <th>creation_time_month</th>\n",
       "      <th>creation_time_day</th>\n",
       "    </tr>\n",
       "  </thead>\n",
       "  <tbody>\n",
       "    <tr>\n",
       "      <th>0</th>\n",
       "      <td>GUEST_INVITE</td>\n",
       "      <td>1</td>\n",
       "      <td>0</td>\n",
       "      <td>adopted_user</td>\n",
       "      <td>4</td>\n",
       "      <td>2</td>\n",
       "      <td>2014</td>\n",
       "      <td>4</td>\n",
       "      <td>22</td>\n",
       "      <td>2014</td>\n",
       "      <td>4</td>\n",
       "      <td>22</td>\n",
       "    </tr>\n",
       "    <tr>\n",
       "      <th>1</th>\n",
       "      <td>ORG_INVITE</td>\n",
       "      <td>0</td>\n",
       "      <td>0</td>\n",
       "      <td>inactive_user</td>\n",
       "      <td>1</td>\n",
       "      <td>4</td>\n",
       "      <td>2013</td>\n",
       "      <td>11</td>\n",
       "      <td>15</td>\n",
       "      <td>2013</td>\n",
       "      <td>11</td>\n",
       "      <td>15</td>\n",
       "    </tr>\n",
       "    <tr>\n",
       "      <th>2</th>\n",
       "      <td>ORG_INVITE</td>\n",
       "      <td>0</td>\n",
       "      <td>0</td>\n",
       "      <td>inactive_user</td>\n",
       "      <td>1</td>\n",
       "      <td>4</td>\n",
       "      <td>2013</td>\n",
       "      <td>11</td>\n",
       "      <td>29</td>\n",
       "      <td>2013</td>\n",
       "      <td>11</td>\n",
       "      <td>15</td>\n",
       "    </tr>\n",
       "    <tr>\n",
       "      <th>3</th>\n",
       "      <td>ORG_INVITE</td>\n",
       "      <td>0</td>\n",
       "      <td>0</td>\n",
       "      <td>inactive_user</td>\n",
       "      <td>1</td>\n",
       "      <td>4</td>\n",
       "      <td>2013</td>\n",
       "      <td>12</td>\n",
       "      <td>9</td>\n",
       "      <td>2013</td>\n",
       "      <td>11</td>\n",
       "      <td>15</td>\n",
       "    </tr>\n",
       "    <tr>\n",
       "      <th>4</th>\n",
       "      <td>ORG_INVITE</td>\n",
       "      <td>0</td>\n",
       "      <td>0</td>\n",
       "      <td>inactive_user</td>\n",
       "      <td>1</td>\n",
       "      <td>4</td>\n",
       "      <td>2013</td>\n",
       "      <td>12</td>\n",
       "      <td>25</td>\n",
       "      <td>2013</td>\n",
       "      <td>11</td>\n",
       "      <td>15</td>\n",
       "    </tr>\n",
       "  </tbody>\n",
       "</table>\n",
       "</div>"
      ],
      "text/plain": [
       "  creation_source  opted_in_to_mailing_list  enabled_for_marketing_drip  \\\n",
       "0    GUEST_INVITE                         1                           0   \n",
       "1      ORG_INVITE                         0                           0   \n",
       "2      ORG_INVITE                         0                           0   \n",
       "3      ORG_INVITE                         0                           0   \n",
       "4      ORG_INVITE                         0                           0   \n",
       "\n",
       "          status  referrer_type  org_type  time_stamp_year  time_stamp_month  \\\n",
       "0   adopted_user              4         2             2014                 4   \n",
       "1  inactive_user              1         4             2013                11   \n",
       "2  inactive_user              1         4             2013                11   \n",
       "3  inactive_user              1         4             2013                12   \n",
       "4  inactive_user              1         4             2013                12   \n",
       "\n",
       "   time_stamp_day  creation_time_year  creation_time_month  creation_time_day  \n",
       "0              22                2014                    4                 22  \n",
       "1              15                2013                   11                 15  \n",
       "2              29                2013                   11                 15  \n",
       "3               9                2013                   11                 15  \n",
       "4              25                2013                   11                 15  "
      ]
     },
     "execution_count": 66,
     "metadata": {},
     "output_type": "execute_result"
    }
   ],
   "source": [
    "#Breakdown time_stamp\n",
    "user_df['time_stamp_year'] = user_df.time_stamp.dt.year\n",
    "user_df['time_stamp_month'] = user_df.time_stamp.dt.month\n",
    "user_df['time_stamp_day'] = user_df.time_stamp.dt.day\n",
    "\n",
    "#Breakdown creation_time\n",
    "user_df['creation_time_year'] = user_df.creation_time.dt.year\n",
    "user_df['creation_time_month'] = user_df.creation_time.dt.month\n",
    "user_df['creation_time_day'] = user_df.creation_time.dt.day\n",
    "\n",
    "#Drop time_stamp and creation_time\n",
    "user_df.drop(columns = ['time_stamp', 'creation_time'], inplace = True)\n",
    "user_df.head()"
   ]
  },
  {
   "cell_type": "markdown",
   "id": "41a4e47b",
   "metadata": {},
   "source": [
    "# Modelling"
   ]
  },
  {
   "cell_type": "markdown",
   "id": "798e8436",
   "metadata": {},
   "source": [
    "## Splitting Features from Target"
   ]
  },
  {
   "cell_type": "code",
   "execution_count": 67,
   "id": "c52e68ac",
   "metadata": {},
   "outputs": [],
   "source": [
    "X = user_df.drop(columns = ['status'])\n",
    "y = user_df.status.replace({'adopted_user': 1, 'inactive_user': 0})\n",
    "feature_names = X.columns"
   ]
  },
  {
   "cell_type": "code",
   "execution_count": 68,
   "id": "24ddeab4",
   "metadata": {},
   "outputs": [
    {
     "data": {
      "text/plain": [
       "0    184176\n",
       "1     23741\n",
       "Name: status, dtype: int64"
      ]
     },
     "execution_count": 68,
     "metadata": {},
     "output_type": "execute_result"
    }
   ],
   "source": [
    "y.value_counts()"
   ]
  },
  {
   "cell_type": "markdown",
   "id": "a42a0c61",
   "metadata": {},
   "source": [
    "## Encoding Categorical Variables"
   ]
  },
  {
   "cell_type": "code",
   "execution_count": 69,
   "id": "e09686a3",
   "metadata": {
    "scrolled": true
   },
   "outputs": [
    {
     "data": {
      "text/html": [
       "<div>\n",
       "<style scoped>\n",
       "    .dataframe tbody tr th:only-of-type {\n",
       "        vertical-align: middle;\n",
       "    }\n",
       "\n",
       "    .dataframe tbody tr th {\n",
       "        vertical-align: top;\n",
       "    }\n",
       "\n",
       "    .dataframe thead th {\n",
       "        text-align: right;\n",
       "    }\n",
       "</style>\n",
       "<table border=\"1\" class=\"dataframe\">\n",
       "  <thead>\n",
       "    <tr style=\"text-align: right;\">\n",
       "      <th></th>\n",
       "      <th>opted_in_to_mailing_list</th>\n",
       "      <th>enabled_for_marketing_drip</th>\n",
       "      <th>referrer_type</th>\n",
       "      <th>org_type</th>\n",
       "      <th>time_stamp_year</th>\n",
       "      <th>time_stamp_month</th>\n",
       "      <th>time_stamp_day</th>\n",
       "      <th>creation_time_year</th>\n",
       "      <th>creation_time_month</th>\n",
       "      <th>creation_time_day</th>\n",
       "      <th>creation_source_GUEST_INVITE</th>\n",
       "      <th>creation_source_ORG_INVITE</th>\n",
       "      <th>creation_source_PERSONAL_PROJECTS</th>\n",
       "      <th>creation_source_SIGNUP</th>\n",
       "      <th>creation_source_SIGNUP_GOOGLE_AUTH</th>\n",
       "    </tr>\n",
       "  </thead>\n",
       "  <tbody>\n",
       "    <tr>\n",
       "      <th>0</th>\n",
       "      <td>1</td>\n",
       "      <td>0</td>\n",
       "      <td>4</td>\n",
       "      <td>2</td>\n",
       "      <td>2014</td>\n",
       "      <td>4</td>\n",
       "      <td>22</td>\n",
       "      <td>2014</td>\n",
       "      <td>4</td>\n",
       "      <td>22</td>\n",
       "      <td>1</td>\n",
       "      <td>0</td>\n",
       "      <td>0</td>\n",
       "      <td>0</td>\n",
       "      <td>0</td>\n",
       "    </tr>\n",
       "    <tr>\n",
       "      <th>1</th>\n",
       "      <td>0</td>\n",
       "      <td>0</td>\n",
       "      <td>1</td>\n",
       "      <td>4</td>\n",
       "      <td>2013</td>\n",
       "      <td>11</td>\n",
       "      <td>15</td>\n",
       "      <td>2013</td>\n",
       "      <td>11</td>\n",
       "      <td>15</td>\n",
       "      <td>0</td>\n",
       "      <td>1</td>\n",
       "      <td>0</td>\n",
       "      <td>0</td>\n",
       "      <td>0</td>\n",
       "    </tr>\n",
       "    <tr>\n",
       "      <th>2</th>\n",
       "      <td>0</td>\n",
       "      <td>0</td>\n",
       "      <td>1</td>\n",
       "      <td>4</td>\n",
       "      <td>2013</td>\n",
       "      <td>11</td>\n",
       "      <td>29</td>\n",
       "      <td>2013</td>\n",
       "      <td>11</td>\n",
       "      <td>15</td>\n",
       "      <td>0</td>\n",
       "      <td>1</td>\n",
       "      <td>0</td>\n",
       "      <td>0</td>\n",
       "      <td>0</td>\n",
       "    </tr>\n",
       "    <tr>\n",
       "      <th>3</th>\n",
       "      <td>0</td>\n",
       "      <td>0</td>\n",
       "      <td>1</td>\n",
       "      <td>4</td>\n",
       "      <td>2013</td>\n",
       "      <td>12</td>\n",
       "      <td>9</td>\n",
       "      <td>2013</td>\n",
       "      <td>11</td>\n",
       "      <td>15</td>\n",
       "      <td>0</td>\n",
       "      <td>1</td>\n",
       "      <td>0</td>\n",
       "      <td>0</td>\n",
       "      <td>0</td>\n",
       "    </tr>\n",
       "    <tr>\n",
       "      <th>4</th>\n",
       "      <td>0</td>\n",
       "      <td>0</td>\n",
       "      <td>1</td>\n",
       "      <td>4</td>\n",
       "      <td>2013</td>\n",
       "      <td>12</td>\n",
       "      <td>25</td>\n",
       "      <td>2013</td>\n",
       "      <td>11</td>\n",
       "      <td>15</td>\n",
       "      <td>0</td>\n",
       "      <td>1</td>\n",
       "      <td>0</td>\n",
       "      <td>0</td>\n",
       "      <td>0</td>\n",
       "    </tr>\n",
       "  </tbody>\n",
       "</table>\n",
       "</div>"
      ],
      "text/plain": [
       "   opted_in_to_mailing_list  enabled_for_marketing_drip  referrer_type  \\\n",
       "0                         1                           0              4   \n",
       "1                         0                           0              1   \n",
       "2                         0                           0              1   \n",
       "3                         0                           0              1   \n",
       "4                         0                           0              1   \n",
       "\n",
       "   org_type  time_stamp_year  time_stamp_month  time_stamp_day  \\\n",
       "0         2             2014                 4              22   \n",
       "1         4             2013                11              15   \n",
       "2         4             2013                11              29   \n",
       "3         4             2013                12               9   \n",
       "4         4             2013                12              25   \n",
       "\n",
       "   creation_time_year  creation_time_month  creation_time_day  \\\n",
       "0                2014                    4                 22   \n",
       "1                2013                   11                 15   \n",
       "2                2013                   11                 15   \n",
       "3                2013                   11                 15   \n",
       "4                2013                   11                 15   \n",
       "\n",
       "   creation_source_GUEST_INVITE  creation_source_ORG_INVITE  \\\n",
       "0                             1                           0   \n",
       "1                             0                           1   \n",
       "2                             0                           1   \n",
       "3                             0                           1   \n",
       "4                             0                           1   \n",
       "\n",
       "   creation_source_PERSONAL_PROJECTS  creation_source_SIGNUP  \\\n",
       "0                                  0                       0   \n",
       "1                                  0                       0   \n",
       "2                                  0                       0   \n",
       "3                                  0                       0   \n",
       "4                                  0                       0   \n",
       "\n",
       "   creation_source_SIGNUP_GOOGLE_AUTH  \n",
       "0                                   0  \n",
       "1                                   0  \n",
       "2                                   0  \n",
       "3                                   0  \n",
       "4                                   0  "
      ]
     },
     "execution_count": 69,
     "metadata": {},
     "output_type": "execute_result"
    }
   ],
   "source": [
    "#Encoding categorical variables\n",
    "X_dummies = pd.get_dummies(X)\n",
    "features_coded = X_dummies.columns\n",
    "X_dummies.head()"
   ]
  },
  {
   "cell_type": "markdown",
   "id": "4664ee7c",
   "metadata": {},
   "source": [
    "## Scaling Data"
   ]
  },
  {
   "cell_type": "code",
   "execution_count": 70,
   "id": "34bb5a44",
   "metadata": {},
   "outputs": [],
   "source": [
    "scaler = StandardScaler()\n",
    "X_scaled = scaler.fit_transform(X_dummies)"
   ]
  },
  {
   "cell_type": "markdown",
   "id": "f97990da",
   "metadata": {},
   "source": [
    "## Creating Train / Test Split"
   ]
  },
  {
   "cell_type": "code",
   "execution_count": 71,
   "id": "6118f365",
   "metadata": {},
   "outputs": [],
   "source": [
    "X_train, X_test, y_train, y_test = train_test_split(X_scaled, y, test_size = 0.3, random_state = 77)"
   ]
  },
  {
   "cell_type": "markdown",
   "id": "d8b53705",
   "metadata": {},
   "source": [
    "## Base Model"
   ]
  },
  {
   "cell_type": "code",
   "execution_count": 72,
   "id": "77af1e57",
   "metadata": {},
   "outputs": [],
   "source": [
    "rf = RandomForestClassifier()"
   ]
  },
  {
   "cell_type": "code",
   "execution_count": 73,
   "id": "2005d821",
   "metadata": {},
   "outputs": [],
   "source": [
    "rf.fit(X_train, y_train);"
   ]
  },
  {
   "cell_type": "code",
   "execution_count": 74,
   "id": "a908ab41",
   "metadata": {},
   "outputs": [],
   "source": [
    "#Determine predictions for train and the test set\n",
    "y_train_pred_rf = rf.predict(X_train)\n",
    "y_test_pred_rf = rf.predict(X_test)"
   ]
  },
  {
   "cell_type": "code",
   "execution_count": 75,
   "id": "543e036a",
   "metadata": {},
   "outputs": [
    {
     "data": {
      "text/plain": [
       "0.9873028087726049"
      ]
     },
     "execution_count": 75,
     "metadata": {},
     "output_type": "execute_result"
    }
   ],
   "source": [
    "#Accuracy scores\n",
    "rf.score(X_test, y_test)"
   ]
  },
  {
   "cell_type": "code",
   "execution_count": 76,
   "id": "81e2d7cc",
   "metadata": {},
   "outputs": [
    {
     "data": {
      "text/plain": [
       "array([[55122,   249],\n",
       "       [  543,  6462]], dtype=int64)"
      ]
     },
     "execution_count": 76,
     "metadata": {},
     "output_type": "execute_result"
    }
   ],
   "source": [
    "#Check confusion matrix\n",
    "confusion_matrix(y_test, y_test_pred_rf)"
   ]
  },
  {
   "cell_type": "code",
   "execution_count": 77,
   "id": "61fb6faf",
   "metadata": {},
   "outputs": [
    {
     "name": "stdout",
     "output_type": "stream",
     "text": [
      "              precision    recall  f1-score   support\n",
      "\n",
      "           0       0.99      1.00      0.99     55371\n",
      "           1       0.96      0.92      0.94      7005\n",
      "\n",
      "    accuracy                           0.99     62376\n",
      "   macro avg       0.98      0.96      0.97     62376\n",
      "weighted avg       0.99      0.99      0.99     62376\n",
      "\n"
     ]
    }
   ],
   "source": [
    "#Check classification report\n",
    "print(classification_report(y_test, y_test_pred_rf))"
   ]
  },
  {
   "cell_type": "code",
   "execution_count": 78,
   "id": "35ce0789",
   "metadata": {},
   "outputs": [],
   "source": [
    "importances = rf.feature_importances_\n",
    "std = np.std([tree.feature_importances_ for tree in rf.estimators_], axis=0)"
   ]
  },
  {
   "cell_type": "code",
   "execution_count": 79,
   "id": "3065cb9a",
   "metadata": {},
   "outputs": [],
   "source": [
    "forest_importances = pd.Series(importances, index= features_coded)"
   ]
  },
  {
   "cell_type": "code",
   "execution_count": 80,
   "id": "1f3996f0",
   "metadata": {},
   "outputs": [
    {
     "data": {
      "image/png": "[encoded data removed]",
      "text/plain": [
       "<Figure size 432x288 with 1 Axes>"
      ]
     },
     "metadata": {
      "needs_background": "light"
     },
     "output_type": "display_data"
    }
   ],
   "source": [
    "fig, ax = plt.subplots()\n",
    "forest_importances.plot.bar(yerr=std, ax=ax)\n",
    "ax.set_title(\"Feature importances using MDI\")\n",
    "ax.set_ylabel(\"Mean decrease in impurity\")\n",
    "fig.tight_layout()"
   ]
  },
  {
   "cell_type": "markdown",
   "id": "05e3d13b",
   "metadata": {},
   "source": [
    "We note that all the features were important but the the creation_time_day was the most important feature."
   ]
  }
 ],
 "metadata": {
  "kernelspec": {
   "display_name": "Python 3",
   "language": "python",
   "name": "python3"
  },
  "language_info": {
   "codemirror_mode": {
    "name": "ipython",
    "version": 3
   },
   "file_extension": ".py",
   "mimetype": "text/x-python",
   "name": "python",
   "nbconvert_exporter": "python",
   "pygments_lexer": "ipython3",
   "version": "3.8.10"
  }
 },
 "nbformat": 4,
 "nbformat_minor": 5
}
